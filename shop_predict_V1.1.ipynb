{
 "cells": [
  {
   "cell_type": "code",
   "execution_count": 1,
   "metadata": {},
   "outputs": [
    {
     "name": "stderr",
     "output_type": "stream",
     "text": [
      "Using TensorFlow backend.\n"
     ]
    }
   ],
   "source": [
    "import pandas as pd\n",
    "from pandas import DataFrame\n",
    "import numpy as np\n",
    "from math import sqrt\n",
    "from numpy import concatenate\n",
    "from matplotlib import pyplot as plt\n",
    "from pandas import read_csv\n",
    "from pandas import DataFrame\n",
    "from pandas import concat\n",
    "from sklearn.preprocessing import MinMaxScaler\n",
    "from sklearn.preprocessing import LabelEncoder\n",
    "from sklearn.metrics import mean_squared_error\n",
    "from keras.models import Sequential\n",
    "from keras.layers import Dense\n",
    "from keras.layers import LSTM\n",
    "import os\n",
    "path='/home/xinyang/Documents/gix/shopN/data/shop_'"
   ]
  },
  {
   "cell_type": "markdown",
   "metadata": {},
   "source": [
    "销售数据取自'sale_XXX.csv'，将所有sale数据进行合并。一共有638家店铺，其中取出：拥有数据数目大于100条可以用于lstm时序预测、以及日期可以满足预测条件的店铺，用shop_newest_len100表示                  "
   ]
  },
  {
   "cell_type": "code",
   "execution_count": 2,
   "metadata": {},
   "outputs": [],
   "source": [
    "shop_newest_len100 = [1, 2, 3, 4, 5, 6, 7, 11, 12, 13, 14, 15, 16, 18, 19, 20, 21, 22, 24, 25, 31, 32, 33, 34, 35, 36, 37, 38, 39, 40, 41, 42, 43, 44, 45, 47, 48, 49, 51, 52, 54, 56, 57, 58, 59, 61, 62, 63, 64, 65, 69, 70, 72, 75, 76, 77, 78, 81, 83, 85, 86, 88, 89, 90, 91, 93, 94, 95, 100, 101, 105, 106, 107, 110, 111, 114, 115, 121, 122, 125, 127, 128, 132, 133, 134, 135, 146, 147, 151, 156, 157, 158, 159, 160, 162, 163, 164, 167, 169, 170, 172, 178, 179, 183, 185, 186, 189, 196, 199, 200, 201, 205, 206, 209, 218, 221, 223, 225, 233, 234, 237, 239, 246, 250, 260, 272, 299, 308, 311, 321, 451, 481]"
   ]
  },
  {
   "cell_type": "code",
   "execution_count": 3,
   "metadata": {},
   "outputs": [],
   "source": [
    "shop_length = []# 保存每个店铺的数据长度\n",
    "for id in shop_newest_len100:\n",
    "    df = pd.read_csv(path+str(id)+'.csv',low_memory=False)\n",
    "    shop_length.append(len(df))"
   ]
  },
  {
   "cell_type": "code",
   "execution_count": 4,
   "metadata": {},
   "outputs": [
    {
     "data": {
      "text/plain": [
       "[225, 558, 558, 446, 366, 331, 513, 177, 362, 497]"
      ]
     },
     "execution_count": 4,
     "metadata": {},
     "output_type": "execute_result"
    }
   ],
   "source": [
    "shop_length[:10]"
   ]
  },
  {
   "cell_type": "code",
   "execution_count": 5,
   "metadata": {},
   "outputs": [],
   "source": [
    "# convert series to supervised learning\n",
    "def series_to_supervised(data, n_in=1, n_out=1, dropnan=True):\n",
    "    n_vars = 1 if type(data) is list else data.shape[1]\n",
    "    df = DataFrame(data)\n",
    "    cols, names = list(), list()\n",
    "    # input sequence (t-n, ... t-1)\n",
    "    for i in range(n_in, 0, -1):\n",
    "        cols.append(df.shift(i))\n",
    "        names += [('var%d(t-%d)' % (j+1, i)) for j in range(n_vars)]\n",
    "    # forecast sequence (t, t+1, ... t+n)\n",
    "    for i in range(0, n_out):\n",
    "        cols.append(df.shift(-i))\n",
    "        if i == 0:\n",
    "            names += [('var%d(t)' % (j+1)) for j in range(n_vars)]\n",
    "        else:\n",
    "            names += [('var%d(t+%d)' % (j+1, i)) for j in range(n_vars)]\n",
    "    # put it all together\n",
    "    agg = concat(cols, axis=1)\n",
    "    agg.columns = names\n",
    "    # drop rows with NaN values\n",
    "    if dropnan:\n",
    "        agg.dropna(inplace=True)\n",
    "    return agg\n",
    "\n",
    "# 定义相对误差的计算\n",
    "def mean_squared_error01(a,b):\n",
    "    e=[]\n",
    "    for i in range(len(a)):\n",
    "        dif = a[i]-b[i]\n",
    "        e1 = abs(dif / b[i])\n",
    "        e.append(e1)\n",
    "    return e"
   ]
  },
  {
   "cell_type": "code",
   "execution_count": 6,
   "metadata": {},
   "outputs": [],
   "source": [
    "# 区间缩放\n",
    "id = 7# 这里随机选取第7个店铺进行展示\n",
    "df = pd.read_csv(path+str(id)+'.csv',low_memory=False)\n",
    "df=df.drop(['sale_date'],axis=1)\n",
    "values = df.values\n",
    "values = values.astype('float32')\n",
    "\n",
    "scaler = MinMaxScaler(feature_range=(0, 1))\n",
    "scaled = scaler.fit_transform(values)\n",
    "\n",
    "# frame as supervised learning\n",
    "reframed = series_to_supervised(scaled, 1, 1)\n",
    "\n",
    "valuess = reframed.values\n",
    "\n",
    "# 2018年所有数据是倒数44条的数据\n",
    "num_2018 = 44\n",
    "\n",
    "train = valuess[:(len(df)-num_2018-1), :]#513-45=468\n",
    "test = valuess[(len(df)-num_2018-1):, :]\n",
    "\n",
    "train_X, train_y = train[:, :-2], train[:, -2]\n",
    "test_X, test_y = test[:, :-2], test[:, -2]\n"
   ]
  },
  {
   "cell_type": "code",
   "execution_count": 7,
   "metadata": {},
   "outputs": [
    {
     "data": {
      "text/plain": [
       "LinearRegression(copy_X=True, fit_intercept=True, n_jobs=None,\n",
       "         normalize=False)"
      ]
     },
     "execution_count": 7,
     "metadata": {},
     "output_type": "execute_result"
    }
   ],
   "source": [
    "# 尝试线性拟合\n",
    "from sklearn.linear_model import LinearRegression\n",
    "linreg = LinearRegression()\n",
    "linreg.fit(train_X,train_y)"
   ]
  },
  {
   "cell_type": "code",
   "execution_count": 8,
   "metadata": {},
   "outputs": [
    {
     "name": "stdout",
     "output_type": "stream",
     "text": [
      "0.2992678538642146\n"
     ]
    }
   ],
   "source": [
    "yhat = linreg.predict(test_X)\n",
    "\n",
    "yhat.reshape((len(yhat), ))\n",
    "\n",
    "rmse = mean_squared_error01(test_y,yhat)\n",
    "error = sum(rmse)/len(test_y)\n",
    "\n",
    "print(error)"
   ]
  },
  {
   "cell_type": "code",
   "execution_count": 9,
   "metadata": {},
   "outputs": [
    {
     "name": "stdout",
     "output_type": "stream",
     "text": [
      "0.43175116982966716\n"
     ]
    }
   ],
   "source": [
    "# 尝试 Vector Autoregression(VAR)\n",
    "from statsmodels.tsa.vector_ar.var_model import VAR\n",
    "model = VAR(endog=train_X)\n",
    "model_fit = model.fit()\n",
    "prediction = model_fit.forecast(model_fit.y, steps=len(test_y))\n",
    "rmse = mean_squared_error01(test_X[:,-2],prediction[:,-2])\n",
    "error = sum(rmse)/len(test_y)\n",
    "\n",
    "print(error)"
   ]
  },
  {
   "cell_type": "code",
   "execution_count": 10,
   "metadata": {},
   "outputs": [],
   "source": [
    "# 尝试将sale_price和quantity分开预测\n",
    "train_saleprice = train[:,0]\n",
    "train_quantity = train[:,1]\n",
    "test_saleprice = test[:,0]\n",
    "test_quantity = test[:,1]"
   ]
  },
  {
   "cell_type": "code",
   "execution_count": 11,
   "metadata": {},
   "outputs": [
    {
     "name": "stdout",
     "output_type": "stream",
     "text": [
      "Error of prediction of sale_price:0.353985322290502\n",
      "Error of prediction of quantity:0.33417050545634597\n"
     ]
    }
   ],
   "source": [
    "# 尝试 Autoregression(AR)\n",
    "from statsmodels.tsa.ar_model import AR\n",
    "model_AR_sp = AR(train_saleprice)\n",
    "model_AR_q = AR(train_quantity)\n",
    "model_fit1 = model_AR_sp.fit()\n",
    "model_fit2 = model_AR_q.fit()\n",
    "prediction_sp = model_fit1.predict(start=len(train_saleprice),end = len(train_saleprice)+len(test_saleprice),dynamic=False)\n",
    "prediction_q = model_fit2.predict(start = len(train_quantity),end = len(train_quantity)+len(test_quantity),dynamic=False)\n",
    "\n",
    "rmse_sp = mean_squared_error01(test_saleprice,prediction_sp)\n",
    "error_sp = sum(rmse_sp)/len(test_saleprice)\n",
    "print('Error of prediction of sale_price:{}'.format(error_sp))\n",
    "\n",
    "rmse_q = mean_squared_error01(test_quantity,prediction_q)\n",
    "error_q = sum(rmse_q)/len(test_saleprice)\n",
    "print('Error of prediction of quantity:{}'.format(error_q))"
   ]
  },
  {
   "cell_type": "code",
   "execution_count": 12,
   "metadata": {},
   "outputs": [
    {
     "name": "stdout",
     "output_type": "stream",
     "text": [
      "Error of prediction of sale_price:0.4120917413393803\n",
      "Error of prediction of quantity:0.4229693351495259\n"
     ]
    }
   ],
   "source": [
    "# 尝试 Moving Average(MA)\n",
    "from statsmodels.tsa.arima_model import ARMA\n",
    "model_MA_sp = ARMA(train_saleprice,order = (0,1))\n",
    "model_MA_q = ARMA(train_quantity,order = (0,1))\n",
    "model_fit1 = model_MA_sp.fit()\n",
    "model_fit2 = model_MA_q.fit()\n",
    "prediction_sp = model_fit1.predict(start=len(train_saleprice),end = len(train_saleprice)+len(test_saleprice))\n",
    "prediction_q = model_fit2.predict(start = len(train_quantity),end = len(train_quantity)+len(test_quantity))\n",
    "\n",
    "rmse_sp = mean_squared_error01(test_saleprice,prediction_sp)\n",
    "error_sp = sum(rmse_sp)/len(test_saleprice)\n",
    "print('Error of prediction of sale_price:{}'.format(error_sp))\n",
    "\n",
    "rmse_q = mean_squared_error01(test_quantity,prediction_q)\n",
    "error_q = sum(rmse_q)/len(test_saleprice)\n",
    "print('Error of prediction of quantity:{}'.format(error_q))"
   ]
  },
  {
   "cell_type": "code",
   "execution_count": 13,
   "metadata": {},
   "outputs": [
    {
     "name": "stdout",
     "output_type": "stream",
     "text": [
      "Error of prediction of sale_price:0.3278919325015963\n",
      "Error of prediction of quantity:0.3094738554139123\n"
     ]
    }
   ],
   "source": [
    "# 尝试 Autoregressive Integrated Moving Average (ARIMA)\n",
    "from statsmodels.tsa.arima_model import ARIMA\n",
    "model_ARIMA_sp = ARIMA(train_saleprice,order = (1,1,1))\n",
    "model_ARIMA_q = ARIMA(train_quantity,order = (1,1,1))\n",
    "model_fit1 = model_ARIMA_sp.fit()\n",
    "model_fit2 = model_ARIMA_q.fit()\n",
    "prediction_sp = model_fit1.predict(start=len(train_saleprice),end = len(train_saleprice)+len(test_saleprice),typ='levels')\n",
    "prediction_q = model_fit2.predict(start = len(train_quantity),end = len(train_quantity)+len(test_quantity),typ='levels')\n",
    "\n",
    "rmse_sp = mean_squared_error01(test_saleprice,prediction_sp)\n",
    "error_sp = sum(rmse_sp)/len(test_saleprice)\n",
    "print('Error of prediction of sale_price:{}'.format(error_sp))\n",
    "\n",
    "rmse_q = mean_squared_error01(test_quantity,prediction_q)\n",
    "error_q = sum(rmse_q)/len(test_saleprice)\n",
    "print('Error of prediction of quantity:{}'.format(error_q))"
   ]
  },
  {
   "cell_type": "code",
   "execution_count": 14,
   "metadata": {},
   "outputs": [
    {
     "name": "stdout",
     "output_type": "stream",
     "text": [
      "Error of prediction of sale_price:0.31527006429182175\n",
      "Error of prediction of quantity:0.3065179898504147\n"
     ]
    }
   ],
   "source": [
    "# 尝试 Seasonal Autoregressive Integrated Moving-Average (SARIMA)\n",
    "from statsmodels.tsa.statespace.sarimax import SARIMAX\n",
    "model_SARIMAX_sp = SARIMAX(train_saleprice,order = (1,1,1,1))\n",
    "model_SARIMAX_q = SARIMAX(train_quantity,order = (1,1,1,1))\n",
    "model_fit1 = model_SARIMAX_sp.fit()\n",
    "model_fit2 = model_SARIMAX_q.fit()\n",
    "prediction_sp = model_fit1.predict(start=len(train_saleprice),end = len(train_saleprice)+len(test_saleprice))\n",
    "prediction_q = model_fit2.predict(start = len(train_quantity),end = len(train_quantity)+len(test_quantity))\n",
    "\n",
    "rmse_sp = mean_squared_error01(test_saleprice,prediction_sp)\n",
    "error_sp = sum(rmse_sp)/len(test_saleprice)\n",
    "print('Error of prediction of sale_price:{}'.format(error_sp))\n",
    "\n",
    "rmse_q = mean_squared_error01(test_quantity,prediction_q)\n",
    "error_q = sum(rmse_q)/len(test_saleprice)\n",
    "print('Error of prediction of quantity:{}'.format(error_q))"
   ]
  }
 ],
 "metadata": {
  "kernelspec": {
   "display_name": "Python 3",
   "language": "python",
   "name": "python3"
  },
  "language_info": {
   "codemirror_mode": {
    "name": "ipython",
    "version": 3
   },
   "file_extension": ".py",
   "mimetype": "text/x-python",
   "name": "python",
   "nbconvert_exporter": "python",
   "pygments_lexer": "ipython3",
   "version": "3.6.0"
  }
 },
 "nbformat": 4,
 "nbformat_minor": 2
}
